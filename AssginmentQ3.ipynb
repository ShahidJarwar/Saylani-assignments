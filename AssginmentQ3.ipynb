{
 "cells": [
  {
   "cell_type": "code",
   "execution_count": 3,
   "metadata": {},
   "outputs": [
    {
     "name": "stdout",
     "output_type": "stream",
     "text": [
      "Date =  11 / 3 / 2019 \n",
      "Time = 3 : 53 : 56 Am\n"
     ]
    }
   ],
   "source": [
    "Month = 11\n",
    "Day = 3\n",
    "Year =2019\n",
    "\n",
    "Hour=3\n",
    "minutes=53\n",
    "secound=56\n",
    "\n",
    "print(\"Date = \",Month,\"/\",Day,\"/\",Year,\"\\nTime =\",Hour,\":\",minutes,\":\",secound,\"Am\")"
   ]
  },
  {
   "cell_type": "code",
   "execution_count": null,
   "metadata": {},
   "outputs": [],
   "source": []
  },
  {
   "cell_type": "code",
   "execution_count": null,
   "metadata": {},
   "outputs": [],
   "source": []
  }
 ],
 "metadata": {
  "kernelspec": {
   "display_name": "Python 3",
   "language": "python",
   "name": "python3"
  },
  "language_info": {
   "codemirror_mode": {
    "name": "ipython",
    "version": 3
   },
   "file_extension": ".py",
   "mimetype": "text/x-python",
   "name": "python",
   "nbconvert_exporter": "python",
   "pygments_lexer": "ipython3",
   "version": "3.7.4"
  }
 },
 "nbformat": 4,
 "nbformat_minor": 2
}
